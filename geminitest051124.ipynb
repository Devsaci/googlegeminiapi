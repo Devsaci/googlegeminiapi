{
  "nbformat": 4,
  "nbformat_minor": 0,
  "metadata": {
    "colab": {
      "provenance": [],
      "authorship_tag": "ABX9TyO72X2oaZpc6YPG3Vs/5TI2",
      "include_colab_link": true
    },
    "kernelspec": {
      "name": "python3",
      "display_name": "Python 3"
    },
    "language_info": {
      "name": "python"
    }
  },
  "cells": [
    {
      "cell_type": "markdown",
      "metadata": {
        "id": "view-in-github",
        "colab_type": "text"
      },
      "source": [
        "<a href=\"https://colab.research.google.com/github/Devsaci/googlegeminiapi/blob/main/geminitest051124.ipynb\" target=\"_parent\"><img src=\"https://colab.research.google.com/assets/colab-badge.svg\" alt=\"Open In Colab\"/></a>"
      ]
    },
    {
      "cell_type": "code",
      "execution_count": 1,
      "metadata": {
        "colab": {
          "base_uri": "https://localhost:8080/"
        },
        "id": "Ae2YFtvyW6yY",
        "outputId": "be401812-4dd4-4c49-ee7b-9610da393a41"
      },
      "outputs": [
        {
          "output_type": "stream",
          "name": "stdout",
          "text": [
            "[0.02230462 0.1158229  0.53647334 0.65827557 0.4882152  0.59098662\n",
            " 0.13646615 0.59846457 0.16777317 0.19032887]\n"
          ]
        }
      ],
      "source": [
        "import numpy as np\n",
        "# Generate 10 random numbers from uniforle distribution between 0 and 1\n",
        "random_number = np.random.rand(10)\n",
        "print(random_number)"
      ]
    }
  ]
}