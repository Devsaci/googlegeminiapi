{
  "nbformat": 4,
  "nbformat_minor": 0,
  "metadata": {
    "colab": {
      "provenance": [],
      "authorship_tag": "ABX9TyPx8Ww7BpwY28Df84VjFUd/",
      "include_colab_link": true
    },
    "kernelspec": {
      "name": "python3",
      "display_name": "Python 3"
    },
    "language_info": {
      "name": "python"
    }
  },
  "cells": [
    {
      "cell_type": "markdown",
      "metadata": {
        "id": "view-in-github",
        "colab_type": "text"
      },
      "source": [
        "<a href=\"https://colab.research.google.com/github/Devsaci/googlegeminiapi/blob/main/googlegeminiapi.ipynb\" target=\"_parent\"><img src=\"https://colab.research.google.com/assets/colab-badge.svg\" alt=\"Open In Colab\"/></a>"
      ]
    },
    {
      "cell_type": "code",
      "source": [],
      "metadata": {
        "id": "uSe4fOMrcrkP"
      },
      "execution_count": null,
      "outputs": []
    },
    {
      "cell_type": "code",
      "source": [
        "import numpy as np\n",
        "# Generate 10 random numbers from uniforle distribution between 0 and 1\n",
        "random_number = np.random.rand(10)\n",
        "print(random_number)"
      ],
      "metadata": {
        "colab": {
          "base_uri": "https://localhost:8080/"
        },
        "id": "DO8FJ01QYE4q",
        "outputId": "60f87c1c-ad02-4096-e2a6-db867f4738c4"
      },
      "execution_count": null,
      "outputs": [
        {
          "output_type": "stream",
          "name": "stdout",
          "text": [
            "[0.68075938 0.41628804 0.45605668 0.8799918  0.6627403  0.84250022\n",
            " 0.91936263 0.66065929 0.66354878 0.57660819]\n"
          ]
        }
      ]
    },
    {
      "cell_type": "code",
      "source": [
        "import random\n",
        "\n",
        "# Generate 10 random numbers\n",
        "random_numbers = [random.uniform(0, 1) for _ in range(10)]\n",
        "\n",
        "# Print the generated numbers\n",
        "print(random_numbers)\n"
      ],
      "metadata": {
        "colab": {
          "base_uri": "https://localhost:8080/"
        },
        "id": "ua60H-WPafS7",
        "outputId": "a3113ce1-195b-4db8-e555-ed86a36dee3e"
      },
      "execution_count": null,
      "outputs": [
        {
          "output_type": "stream",
          "name": "stdout",
          "text": [
            "[0.11225062512533746, 0.8871774000866977, 0.8135042426243541, 0.28756482070792244, 0.5724670142274192, 0.5774090385326609, 0.6063273404138076, 0.30294035199393043, 0.3796618213839096, 0.8267840848071539]\n"
          ]
        }
      ]
    }
  ]
}