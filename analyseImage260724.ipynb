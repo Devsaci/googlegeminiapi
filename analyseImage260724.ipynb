{
  "nbformat": 4,
  "nbformat_minor": 0,
  "metadata": {
    "colab": {
      "provenance": [],
      "authorship_tag": "ABX9TyOq007p68Bajlw38D0sTMgc",
      "include_colab_link": true
    },
    "kernelspec": {
      "name": "python3",
      "display_name": "Python 3"
    },
    "language_info": {
      "name": "python"
    }
  },
  "cells": [
    {
      "cell_type": "markdown",
      "metadata": {
        "id": "view-in-github",
        "colab_type": "text"
      },
      "source": [
        "<a href=\"https://colab.research.google.com/github/Devsaci/googlegeminiapi/blob/main/analyseImage260724.ipynb\" target=\"_parent\"><img src=\"https://colab.research.google.com/assets/colab-badge.svg\" alt=\"Open In Colab\"/></a>"
      ]
    },
    {
      "cell_type": "code",
      "execution_count": null,
      "metadata": {
        "id": "wqV410Jxquys"
      },
      "outputs": [],
      "source": [
        "\"\"\"\n",
        "Install the Google AI Python SDK\n",
        "\n",
        "$ pip install google-generativeai\n",
        "\n",
        "See the getting started guide for more information:\n",
        "https://ai.google.dev/gemini-api/docs/get-started/python\n",
        "\"\"\"\n",
        "\n",
        "import os\n",
        "\n",
        "import google.generativeai as genai\n",
        "\n",
        "genai.configure(api_key=os.environ[\"GEMINI_API_KEY\"])\n",
        "\n",
        "def upload_to_gemini(path, mime_type=None):\n",
        "  \"\"\"Uploads the given file to Gemini.\n",
        "\n",
        "  See https://ai.google.dev/gemini-api/docs/prompting_with_media\n",
        "  \"\"\"\n",
        "  file = genai.upload_file(path, mime_type=mime_type)\n",
        "  print(f\"Uploaded file '{file.display_name}' as: {file.uri}\")\n",
        "  return file\n",
        "\n",
        "# Create the model\n",
        "# See https://ai.google.dev/api/python/google/generativeai/GenerativeModel\n",
        "generation_config = {\n",
        "  \"temperature\": 1,\n",
        "  \"top_p\": 0.95,\n",
        "  \"top_k\": 64,\n",
        "  \"max_output_tokens\": 8192,\n",
        "  \"response_mime_type\": \"text/plain\",\n",
        "}\n",
        "\n",
        "model = genai.GenerativeModel(\n",
        "  model_name=\"gemini-1.5-flash\",\n",
        "  generation_config=generation_config,\n",
        "  # safety_settings = Adjust safety settings\n",
        "  # See https://ai.google.dev/gemini-api/docs/safety-settings\n",
        ")\n",
        "\n",
        "# TODO Make these files available on the local file system\n",
        "# You may need to update the file paths\n",
        "files = [\n",
        "  upload_to_gemini(\"circuit electrique.PNG\", mime_type=\"image/png\"),\n",
        "]\n",
        "\n",
        "chat_session = model.start_chat(\n",
        "  history=[\n",
        "    {\n",
        "      \"role\": \"user\",\n",
        "      \"parts\": [\n",
        "        files[0],\n",
        "        \"explique le contenue de l'image\",\n",
        "      ],\n",
        "    },\n",
        "    {\n",
        "      \"role\": \"model\",\n",
        "      \"parts\": [\n",
        "        \"L'image représente un circuit électrique et explique les conventions utilisées pour représenter le courant électrique et la tension.\\n\\n- Le premier paragraphe explique que le courant électrique circule de la borne positive vers la borne négative du générateur.\\n- Le deuxième paragraphe explique que par convention, le courant électrique est représenté par une flèche placée sur les fils et la tension est représentée par une flèche placée à côté du dipôle. La flèche de la tension est orientée dans le sens opposé à celui du courant électrique pour les récepteurs et dans le même sens pour les générateurs.\\n- Les deux exemples montrent comment représenter le courant et la tension dans un circuit électrique. \\n\\nLe premier exemple montre un circuit avec un générateur, une ampoule et un moteur. La flèche du courant circule de la borne positive du générateur vers la borne négative, passant par l'ampoule et le moteur. La flèche de la tension est orientée dans le sens opposé au courant pour l'ampoule et dans le même sens que le courant pour le moteur. \\n\\nLe deuxième exemple montre un circuit avec un générateur, une ampoule, un moteur et une résistance. La flèche du courant circule de la borne positive du générateur vers la borne négative, passant par l'ampoule, le moteur et la résistance. La flèche de la tension est orientée dans le sens opposé au courant pour l'ampoule, le moteur et la résistance. \\n\",\n",
        "      ],\n",
        "    },\n",
        "  ]\n",
        ")\n",
        "\n",
        "response = chat_session.send_message(\"INSERT_INPUT_HERE\")\n",
        "\n",
        "print(response.text)"
      ]
    }
  ]
}